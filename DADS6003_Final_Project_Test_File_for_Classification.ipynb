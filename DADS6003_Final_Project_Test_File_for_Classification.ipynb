{
  "nbformat": 4,
  "nbformat_minor": 0,
  "metadata": {
    "colab": {
      "provenance": [],
      "collapsed_sections": [
        "D5EjuN6gFKmb",
        "McnGkwGqKw2f"
      ],
      "include_colab_link": true
    },
    "kernelspec": {
      "name": "python3",
      "display_name": "Python 3"
    },
    "language_info": {
      "name": "python"
    }
  },
  "cells": [
    {
      "cell_type": "markdown",
      "metadata": {
        "id": "view-in-github",
        "colab_type": "text"
      },
      "source": [
        "<a href=\"https://colab.research.google.com/github/geexe/stock-price-classification-sell-buy/blob/main/DADS6003_Final_Project_Test_File_for_Classification.ipynb\" target=\"_parent\"><img src=\"https://colab.research.google.com/assets/colab-badge.svg\" alt=\"Open In Colab\"/></a>"
      ]
    },
    {
      "cell_type": "markdown",
      "source": [
        "Instruction\n",
        "\n",
        "- Upload the 3 model files into Colab Folder (Folder icon on the left side)\n",
        "  - model_tisco.joblib\n",
        "  - model_erw.joblib\n",
        "  - model_sprc.joblib\n",
        "- Input desired start date, end date and interval for each respective ticker\n",
        "- Run the code and obtain AUC Score"
      ],
      "metadata": {
        "id": "JnKKSSR8kQTO"
      }
    },
    {
      "cell_type": "markdown",
      "source": [
        "### Installations"
      ],
      "metadata": {
        "id": "2S6y5QVHEtK7"
      }
    },
    {
      "cell_type": "code",
      "source": [
        "!pip install pandas\n",
        "!pip install numpy\n",
        "!pip install requests\n",
        "!pip install lxml\n",
        "!pip install yfinance"
      ],
      "metadata": {
        "id": "JN6Og5-qLDlQ",
        "colab": {
          "base_uri": "https://localhost:8080/"
        },
        "outputId": "e93cdf81-a22b-4142-8222-e2d62cc7de2d"
      },
      "execution_count": 1,
      "outputs": [
        {
          "output_type": "stream",
          "name": "stdout",
          "text": [
            "Requirement already satisfied: pandas in /usr/local/lib/python3.10/dist-packages (1.5.3)\n",
            "Requirement already satisfied: python-dateutil>=2.8.1 in /usr/local/lib/python3.10/dist-packages (from pandas) (2.8.2)\n",
            "Requirement already satisfied: pytz>=2020.1 in /usr/local/lib/python3.10/dist-packages (from pandas) (2023.3.post1)\n",
            "Requirement already satisfied: numpy>=1.21.0 in /usr/local/lib/python3.10/dist-packages (from pandas) (1.23.5)\n",
            "Requirement already satisfied: six>=1.5 in /usr/local/lib/python3.10/dist-packages (from python-dateutil>=2.8.1->pandas) (1.16.0)\n",
            "Requirement already satisfied: numpy in /usr/local/lib/python3.10/dist-packages (1.23.5)\n",
            "Requirement already satisfied: requests in /usr/local/lib/python3.10/dist-packages (2.31.0)\n",
            "Requirement already satisfied: charset-normalizer<4,>=2 in /usr/local/lib/python3.10/dist-packages (from requests) (3.3.2)\n",
            "Requirement already satisfied: idna<4,>=2.5 in /usr/local/lib/python3.10/dist-packages (from requests) (3.6)\n",
            "Requirement already satisfied: urllib3<3,>=1.21.1 in /usr/local/lib/python3.10/dist-packages (from requests) (2.0.7)\n",
            "Requirement already satisfied: certifi>=2017.4.17 in /usr/local/lib/python3.10/dist-packages (from requests) (2023.11.17)\n",
            "Requirement already satisfied: lxml in /usr/local/lib/python3.10/dist-packages (4.9.4)\n",
            "Requirement already satisfied: yfinance in /usr/local/lib/python3.10/dist-packages (0.2.33)\n",
            "Requirement already satisfied: pandas>=1.3.0 in /usr/local/lib/python3.10/dist-packages (from yfinance) (1.5.3)\n",
            "Requirement already satisfied: numpy>=1.16.5 in /usr/local/lib/python3.10/dist-packages (from yfinance) (1.23.5)\n",
            "Requirement already satisfied: requests>=2.31 in /usr/local/lib/python3.10/dist-packages (from yfinance) (2.31.0)\n",
            "Requirement already satisfied: multitasking>=0.0.7 in /usr/local/lib/python3.10/dist-packages (from yfinance) (0.0.11)\n",
            "Requirement already satisfied: lxml>=4.9.1 in /usr/local/lib/python3.10/dist-packages (from yfinance) (4.9.4)\n",
            "Requirement already satisfied: appdirs>=1.4.4 in /usr/local/lib/python3.10/dist-packages (from yfinance) (1.4.4)\n",
            "Requirement already satisfied: pytz>=2022.5 in /usr/local/lib/python3.10/dist-packages (from yfinance) (2023.3.post1)\n",
            "Requirement already satisfied: frozendict>=2.3.4 in /usr/local/lib/python3.10/dist-packages (from yfinance) (2.4.0)\n",
            "Requirement already satisfied: peewee>=3.16.2 in /usr/local/lib/python3.10/dist-packages (from yfinance) (3.17.0)\n",
            "Requirement already satisfied: beautifulsoup4>=4.11.1 in /usr/local/lib/python3.10/dist-packages (from yfinance) (4.11.2)\n",
            "Requirement already satisfied: html5lib>=1.1 in /usr/local/lib/python3.10/dist-packages (from yfinance) (1.1)\n",
            "Requirement already satisfied: soupsieve>1.2 in /usr/local/lib/python3.10/dist-packages (from beautifulsoup4>=4.11.1->yfinance) (2.5)\n",
            "Requirement already satisfied: six>=1.9 in /usr/local/lib/python3.10/dist-packages (from html5lib>=1.1->yfinance) (1.16.0)\n",
            "Requirement already satisfied: webencodings in /usr/local/lib/python3.10/dist-packages (from html5lib>=1.1->yfinance) (0.5.1)\n",
            "Requirement already satisfied: python-dateutil>=2.8.1 in /usr/local/lib/python3.10/dist-packages (from pandas>=1.3.0->yfinance) (2.8.2)\n",
            "Requirement already satisfied: charset-normalizer<4,>=2 in /usr/local/lib/python3.10/dist-packages (from requests>=2.31->yfinance) (3.3.2)\n",
            "Requirement already satisfied: idna<4,>=2.5 in /usr/local/lib/python3.10/dist-packages (from requests>=2.31->yfinance) (3.6)\n",
            "Requirement already satisfied: urllib3<3,>=1.21.1 in /usr/local/lib/python3.10/dist-packages (from requests>=2.31->yfinance) (2.0.7)\n",
            "Requirement already satisfied: certifi>=2017.4.17 in /usr/local/lib/python3.10/dist-packages (from requests>=2.31->yfinance) (2023.11.17)\n"
          ]
        }
      ]
    },
    {
      "cell_type": "code",
      "source": [
        "# Resolve \"cannot install ta-lib\"\n",
        "!wget http://prdownloads.sourceforge.net/ta-lib/ta-lib-0.4.0-src.tar.gz\n",
        "!tar -xzvf ta-lib-0.4.0-src.tar.gz\n",
        "%cd ta-lib\n",
        "!./configure --prefix=/usr\n",
        "!make\n",
        "!make install\n",
        "!pip install Ta-Lib"
      ],
      "metadata": {
        "id": "aWkjy4FvmkDt"
      },
      "execution_count": null,
      "outputs": []
    },
    {
      "cell_type": "code",
      "source": [
        "# Algorithms to be used\n",
        "from sklearn.linear_model import *\n",
        "from sklearn.neural_network import *\n",
        "from sklearn.naive_bayes import *\n",
        "from sklearn.neighbors import *\n",
        "from sklearn.ensemble import *\n",
        "from sklearn.tree import *\n",
        "from sklearn.svm import *\n",
        "\n",
        "# Preprocessing\n",
        "from sklearn.preprocessing import StandardScaler\n",
        "\n",
        "# Model Seclection\n",
        "from sklearn.model_selection import GridSearchCV\n",
        "from sklearn.model_selection import train_test_split\n",
        "from sklearn.model_selection import StratifiedKFold\n",
        "from sklearn.metrics import *\n",
        "from sklearn.feature_selection import *\n",
        "from sklearn import metrics\n",
        "from sklearn.model_selection import cross_val_score\n",
        "\n",
        "# import other required libraries\n",
        "from pandas_datareader import data as pdr\n",
        "import yfinance as yf\n",
        "import talib as ta\n",
        "import numpy as np\n",
        "import pandas as pd\n",
        "#from sklearn.externals import joblib\n",
        "import joblib\n",
        "from google.colab import files\n",
        "\n",
        "# import other libraries for EDA\n",
        "import seaborn as sns\n",
        "import matplotlib.pyplot as plt"
      ],
      "metadata": {
        "id": "Z16n-emLhKFD"
      },
      "execution_count": 3,
      "outputs": []
    },
    {
      "cell_type": "markdown",
      "source": [
        "### Feature engineering and Functions"
      ],
      "metadata": {
        "id": "D5EjuN6gFKmb"
      }
    },
    {
      "cell_type": "code",
      "source": [
        "# Get Ticker Data at specified start date, end date and interval\n",
        "def get_data(ticker,start_date,end_date,query_interval):\n",
        "  yf.pdr_override()\n",
        "  quote = yf.Ticker(ticker)\n",
        "  interval = query_interval\n",
        "  start = start_date\n",
        "  end = end_date\n",
        "  quote_price_df = quote.history(interval=interval,start=start,end=end)\n",
        "  df = quote_price_df.iloc[:,:4]\n",
        "  return df\n",
        "\n",
        "# Add features to Data Frame\n",
        "def add_features(df):\n",
        "  df = df.reset_index()\n",
        "  df = df.iloc[:,:5]\n",
        "  df['S_10'] = df['Close'].rolling(window=10).mean()\n",
        "  #df['Corr'] = df['Close'].rolling(window=10).corr(df['S_10'])\n",
        "  df['RSI'] = ta.RSI(np.array(df['Close']), timeperiod =10)\n",
        "  df['Open-Close'] = df['Open'] - df['Close'].shift(1)\n",
        "  df['Open-Open'] = df['Open'] - df['Open'].shift(1)\n",
        "  df['%K'], df['%D'] = ta.STOCH(df['High'], df['Low'], df['Close'])\n",
        "  # df['%K'], df['%D'] = df['%K']/100, df['%D']/100\n",
        "  df['UpperBand'], df['MiddleBand'], df['LowerBand'] = ta.BBANDS(df['Close'])\n",
        "  # Replace upper and lower bolliger bands with the differences to the 'Close'\n",
        "  df['UpperBand'] = df['UpperBand'] - df['Close']\n",
        "  df['LowerBand'] = df['UpperBand'] - df['Close']\n",
        "  df['Reverse_buy'] = np.where(df['High'].shift(2) < df['Close'], 1, 0)\n",
        "  df['Reverse_sell'] = np.where(df['Low'].shift(2) > df['Close'], 1, 0)\n",
        "  # Convert the 'Date' column to datetime\n",
        "  if 'Datetime' in df.columns:\n",
        "    # Since the column name changes according to the time frame given to the Yahoo Finance API:\n",
        "    # \"Date\" if time frame is >1d, otherwise \"Datetime\" if <1d, we need to select the right column\n",
        "    df['Date'] = pd.to_datetime(df['Datetime'])\n",
        "  else:\n",
        "    df['Date'] = pd.to_datetime(df['Date'])\n",
        "  # Convert day of week to circular function (x,y) coordinates in a 2-dimension space using sin() and cos()\n",
        "  df['Day_of_Week'] = df['Date'].dt.dayofweek\n",
        "  df['Circular_Day_Sine'] = np.sin(2 * np.pi * df['Day_of_Week'] / 7)\n",
        "  df['Circular_Day_Cosine'] = np.cos(2 * np.pi * df['Day_of_Week'] / 7)\n",
        "  df['Is_Friday'] = (df['Day_of_Week'] == 4).astype(int)\n",
        "  df['Is_Monday'] = (df['Day_of_Week'] == 0).astype(int)\n",
        "  # Extract hour and minute from the datetime\n",
        "  df['Hour'] = df['Date'].dt.hour\n",
        "  df['Minute'] = df['Date'].dt.minute\n",
        "  df['Is_10am'] = (df['Hour'] == 10).astype(int)\n",
        "  df['Is_4pm'] = (df['Hour'] == 16).astype(int)\n",
        "  # Convert time of day to circular values using sine and cosine\n",
        "  df['Circular_Time_Sine'] = np.sin(2 * np.pi * (df['Hour'] * 60 + df['Minute']) / (24 * 60))\n",
        "  df['Circular_Time_Cosine'] = np.cos(2 * np.pi * (df['Hour'] * 60 + df['Minute']) / (24 * 60))\n",
        "  # Drop variables\n",
        "  df = df.drop('Day_of_Week', axis = 1)\n",
        "  df = df.drop('Hour', axis = 1)\n",
        "  df = df.drop('Minute', axis = 1)\n",
        "  df = df.drop('MiddleBand', axis = 1)\n",
        "  if 'Datetime' in df.columns:\n",
        "    df = df.drop('Datetime', axis = 1)\n",
        "    df = df.drop('Date', axis = 1)\n",
        "  else:\n",
        "    df = df.drop('Date', axis = 1)\n",
        "\n",
        "  df = df.dropna()\n",
        "  return df\n",
        "\n",
        "def define_var(data,split_proportion):\n",
        "  # Define y\n",
        "  # Shift -1 means data from the next period is put into the current row: means if the next period price is higher, we buy\n",
        "  # Shift 1 means data from the previous period is put into the current row: means if the previous period price is higher, we sell\n",
        "  X = data\n",
        "  y = np.where(data['Close'].shift(-1) > data['Close'],1,0)\n",
        "\n",
        "  buy = int(0)\n",
        "  not_buy = int(0)\n",
        "  for i in range(len(y)):\n",
        "    if y[i] == 1:\n",
        "      buy += 1\n",
        "    else:\n",
        "      not_buy += 1\n",
        "\n",
        "  split = int(split_proportion * len(data))\n",
        "  X_train, X_test, y_train, y_test = data[:split], data[split:], y[:split], y[split:]\n",
        "  return X_train, X_test, y_train, y_test\n",
        "\n",
        "# Define train or test data (No splitting)\n",
        "def define_data(data):\n",
        "# Define y\n",
        "  # Shift -1 means data from the next period is put into the current row: means if the next period price is higher, we buy\n",
        "  # Shift 1 means data from the previous period is put into the current row: means if the previous period price is higher, we sell\n",
        "  X = data\n",
        "  y = np.where(data['Close'].shift(-1) > data['Close'],1,-1)\n",
        "\n",
        "  buy = int(0)\n",
        "  not_buy = int(0)\n",
        "  for i in range(len(y)):\n",
        "    if y[i] == 1:\n",
        "      buy += 1\n",
        "    else:\n",
        "      not_buy += 1\n",
        "\n",
        "  return X, y\n",
        "\n",
        "# Define train or test data (No splitting)\n",
        "def define_data1(data):\n",
        "# Define y\n",
        "  # Shift -1 means data from the next period is put into the current row: means if the next period price is higher, we buy\n",
        "  # Shift 1 means data from the previous period is put into the current row: means if the previous period price is higher, we sell\n",
        "  X = data\n",
        "  y = np.where(data['Close'].shift(-1) > data['Close'],1,-1)\n",
        "\n",
        "  buy = int(0)\n",
        "  not_buy = int(0)\n",
        "  for i in range(len(y)):\n",
        "    if y[i] == 1:\n",
        "      buy += 1\n",
        "    else:\n",
        "      not_buy += 1\n",
        "\n",
        "  return X, y, buy, not_buy\n",
        "\n",
        "# GridSearch\n",
        "def grid_search(modelType, X_train, y_train, gridParam, cv_fold,):\n",
        "  grid = GridSearchCV(modelType,gridParam,cv=cv_fold)\n",
        "  grid.fit(X_train, y_train)\n",
        "  best_model = grid.best_estimator_\n",
        "  return best_model\n",
        "\n",
        "# Build model and output report (Input gridseach 'best_model' for modelType). However, this is not recommended as GridSearchCV uses the same training data\n",
        "# Use nested_cv instead for GridSearch and model evaluation with 2-step CV\n",
        "def train_model(modelType, X_train, X_test, y_train, y_test):\n",
        "\n",
        "  model = modelType\n",
        "  model.fit(X_train, y_train)\n",
        "\n",
        "  y_pred = model.predict(X_test)\n",
        "  y_prob = model.predict_proba(X_test)[:,1]\n",
        "\n",
        "  conf_matrix = metrics.confusion_matrix(y_test, y_pred)\n",
        "\n",
        "  #Classification Report\n",
        "  report = metrics.classification_report(y_test, y_pred)\n",
        "\n",
        "  # Model Accuracy\n",
        "  accuracy = model.score(X_test,y_test)\n",
        "\n",
        "  # Cross Validation\n",
        "  cross_val = cross_val_score(modelType, X_train, y_train, scoring = 'roc_auc', cv = 5)\n",
        "\n",
        "  # AUC_ROC\n",
        "  auc_score = roc_auc_score(y_test, y_prob)\n",
        "\n",
        "  return X_train, X_test, y_train, y_test, y_pred, model, conf_matrix, report, accuracy, cross_val, auc_score\n",
        "\n",
        "# Nested Cross-Validation\n",
        "def nested_cv(modelType, X, y, gridParam, outerCvFold, innerCvFold,state):\n",
        "    # Outer cross-validation (for model evaluation)\n",
        "  outer_cv = StratifiedKFold(n_splits=outerCvFold, shuffle=True, random_state=state)\n",
        "\n",
        "  # Inner cross-validation (for hyperparameter tuning)\n",
        "  inner_cv = StratifiedKFold(n_splits=innerCvFold, shuffle=True,random_state=state)\n",
        "\n",
        "  # Nested cross-validation\n",
        "  nested_scores = []\n",
        "\n",
        "  for train_index, test_index in outer_cv.split(X, y):\n",
        "\n",
        "    # X_train, X_test = X.iloc[train_index,:], X.iloc[test_index,:] # X is pandas DataFrame so need to use .iloc[Slice,Slice]\n",
        "    X_train, X_test = X[train_index], X[test_index] # X is pandas DataFrame so need to use .iloc[Slice,Slice]\n",
        "    y_train, y_test = y[train_index], y[test_index] # y is np array so can use index directly\n",
        "\n",
        "    # GridSearchCV for hyperparameter tuning\n",
        "    grid_search = GridSearchCV(estimator=modelType, param_grid=gridParam, scoring='roc_auc', cv=inner_cv)\n",
        "    grid_search.fit(X_train, y_train)\n",
        "    best_model = grid_search.best_estimator_\n",
        "\n",
        "    # Evaluate the model on the outer test set\n",
        "    outer_score = grid_search.score(X_test, y_test)\n",
        "    nested_scores.append(outer_score)\n",
        "  return best_model, nested_scores"
      ],
      "metadata": {
        "id": "0tUKQXB83R_S"
      },
      "execution_count": 14,
      "outputs": []
    },
    {
      "cell_type": "markdown",
      "source": [
        "###Test on new data"
      ],
      "metadata": {
        "id": "Ka21HRlnZ3bT"
      }
    },
    {
      "cell_type": "markdown",
      "source": [
        "TISCO"
      ],
      "metadata": {
        "id": "dowk_SK2fMVD"
      }
    },
    {
      "cell_type": "code",
      "source": [
        "# Define ticker, start, end and interval\n",
        "ticker = 'TISCO.BK'\n",
        "start_time = '2023-12-29'\n",
        "end_time = '2024-01-13'\n",
        "interval = '15m'\n",
        "\n",
        "# Load saved model\n",
        "loaded_model = joblib.load('/content/model_tisco.joblib')\n",
        "\n",
        "df_test = get_data(ticker,start_time, end_time, interval)\n",
        "df_test = add_features(df_test)\n",
        "X_test, y_test = define_data(df_test)\n",
        "X_test = X_test.to_numpy()\n",
        "\n",
        "y_prob = loaded_model.predict_proba(X_test)[:,1]\n",
        "y_pred = loaded_model.predict(X_test)\n",
        "aucScore = roc_auc_score(y_test,y_prob)\n",
        "\n",
        "# Get AUC\n",
        "print(f\"AUC Score for {ticker}: {aucScore}\")"
      ],
      "metadata": {
        "colab": {
          "base_uri": "https://localhost:8080/"
        },
        "id": "f79jrZfpZ-IU",
        "outputId": "84381b1f-a294-41e5-a994-3457d24b2f37"
      },
      "execution_count": 32,
      "outputs": [
        {
          "output_type": "stream",
          "name": "stdout",
          "text": [
            "AUC Score for TISCO.BK: 0.8215634989828537\n"
          ]
        }
      ]
    },
    {
      "cell_type": "markdown",
      "source": [
        "SPRC"
      ],
      "metadata": {
        "id": "tNdqQd0Xi7ug"
      }
    },
    {
      "cell_type": "code",
      "source": [
        "# Define ticker, start, end and interval\n",
        "ticker = 'SPRC.BK'\n",
        "start_time = '2023-12-29'\n",
        "end_time = '2024-01-13'\n",
        "interval = '15m'\n",
        "\n",
        "# Load saved model\n",
        "loaded_model = joblib.load('/content/model_tisco.joblib')\n",
        "\n",
        "df_test = get_data(ticker,start_time, end_time, interval)\n",
        "df_test = add_features(df_test)\n",
        "X_test, y_test = define_data(df_test)\n",
        "X_test = X_test.to_numpy()\n",
        "\n",
        "y_prob = loaded_model.predict_proba(X_test)[:,1]\n",
        "y_pred = loaded_model.predict(X_test)\n",
        "aucScore = roc_auc_score(y_test,y_prob)\n",
        "\n",
        "# Get AUC\n",
        "print(f\"AUC Score for {ticker}: {aucScore}\")"
      ],
      "metadata": {
        "colab": {
          "base_uri": "https://localhost:8080/"
        },
        "id": "eKP1WeW0ilXs",
        "outputId": "08b1ee09-b0de-420d-b733-4f732553bd5c"
      },
      "execution_count": 33,
      "outputs": [
        {
          "output_type": "stream",
          "name": "stdout",
          "text": [
            "AUC Score for SPRC.BK: 0.6424595141700405\n"
          ]
        }
      ]
    },
    {
      "cell_type": "markdown",
      "source": [
        "ERW"
      ],
      "metadata": {
        "id": "CV8BGeJ3jEPj"
      }
    },
    {
      "cell_type": "code",
      "source": [
        "# Define ticker, start, end and interval\n",
        "ticker = 'ERW.BK'\n",
        "start_time = '2023-12-29'\n",
        "end_time = '2024-01-13'\n",
        "interval = '15m'\n",
        "\n",
        "# Load saved model\n",
        "loaded_model = joblib.load('/content/model_erw.joblib')\n",
        "\n",
        "df_test = get_data(ticker,start_time, end_time, interval)\n",
        "df_test = add_features(df_test)\n",
        "X_test, y_test = define_data(df_test)\n",
        "X_test = X_test.to_numpy()\n",
        "\n",
        "y_prob = loaded_model.predict_proba(X_test)[:,1]\n",
        "y_pred = loaded_model.predict(X_test)\n",
        "aucScore = roc_auc_score(y_test,y_prob)\n",
        "\n",
        "# Get AUC\n",
        "print(f\"AUC Score for {ticker}: {aucScore}\")"
      ],
      "metadata": {
        "colab": {
          "base_uri": "https://localhost:8080/"
        },
        "id": "Slxq7e-oi-5D",
        "outputId": "f52f66ec-2613-4eb9-ae6b-4b3ead60cd9b"
      },
      "execution_count": 35,
      "outputs": [
        {
          "output_type": "stream",
          "name": "stdout",
          "text": [
            "AUC Score for ERW.BK: 0.7449874686716792\n"
          ]
        }
      ]
    }
  ]
}